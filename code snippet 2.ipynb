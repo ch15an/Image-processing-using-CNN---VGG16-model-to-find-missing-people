{
 "cells": [
  {
   "cell_type": "code",
   "execution_count": 2,
   "id": "329989a9-9e91-4bf1-ba32-5a9665294480",
   "metadata": {},
   "outputs": [
    {
     "name": "stdout",
     "output_type": "stream",
     "text": [
      "1/1 [==============================] - 0s 434ms/step\n",
      "1/1 [==============================] - 0s 362ms/step\n",
      "1609.8171\n"
     ]
    }
   ],
   "source": [
    "from tensorflow.keras.applications.vgg16 import VGG16, preprocess_input\n",
    "from tensorflow.keras.preprocessing.image import load_img, img_to_array\n",
    "import numpy as np\n",
    "\n",
    "# Load VGG16 model for face comparison\n",
    "model = VGG16(weights='imagenet', include_top=False)\n",
    "\n",
    "# Define a function to preprocess and obtain feature vector from an image\n",
    "def get_feature_vector(image_path):\n",
    "    img = load_img(image_path, target_size=(224, 224)) # load and resize the image\n",
    "    img_array = img_to_array(img) # convert the image to an array\n",
    "    img_array = np.expand_dims(img_array, axis=0) # add an extra dimension because the model expects a batch of images\n",
    "    img_array = preprocess_input(img_array) # preprocess the image to prepare it for the VGG16 model\n",
    "    feature_vector = model.predict(img_array) # obtain the feature vector for the image\n",
    "    return feature_vector.flatten() # flatten the feature vector to a 1D array\n",
    "\n",
    "# Compare two faces using Euclidean distance\n",
    "def compare_faces(image1_path, image2_path):\n",
    "    feature_vector1 = get_feature_vector(image1_path)\n",
    "    feature_vector2 = get_feature_vector(image2_path)\n",
    "    return np.linalg.norm(feature_vector1 - feature_vector2)\n",
    "\n",
    "# Test the function with two image paths\n",
    "print(compare_faces('v2.jpeg', 'v1.jpeg'))"
   ]
  },
  {
   "cell_type": "code",
   "execution_count": null,
   "id": "5129f489-d9f7-4719-9888-79e9a4d71c1b",
   "metadata": {},
   "outputs": [],
   "source": []
  }
 ],
 "metadata": {
  "kernelspec": {
   "display_name": "Python 3 (ipykernel)",
   "language": "python",
   "name": "python3"
  },
  "language_info": {
   "codemirror_mode": {
    "name": "ipython",
    "version": 3
   },
   "file_extension": ".py",
   "mimetype": "text/x-python",
   "name": "python",
   "nbconvert_exporter": "python",
   "pygments_lexer": "ipython3",
   "version": "3.10.6"
  }
 },
 "nbformat": 4,
 "nbformat_minor": 5
}
