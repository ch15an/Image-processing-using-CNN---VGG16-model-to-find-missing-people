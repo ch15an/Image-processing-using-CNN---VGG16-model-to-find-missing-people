{
 "cells": [
  {
   "cell_type": "code",
   "execution_count": 1,
   "id": "2cfcd386-731a-440d-92f1-b3b051dfb344",
   "metadata": {},
   "outputs": [],
   "source": [
    "import numpy as np\n",
    "import cv2\n",
    "from sklearn.metrics import pairwise_distances_argmin_min"
   ]
  },
  {
   "cell_type": "code",
   "execution_count": 2,
   "id": "78ce38de-d4b0-44e0-9d06-e05b91dd33e1",
   "metadata": {},
   "outputs": [],
   "source": [
    "def load_image(image_path):\n",
    "    image = cv2.imread(image_path)\n",
    "    return image"
   ]
  },
  {
   "cell_type": "code",
   "execution_count": 9,
   "id": "0d6ad685-2cff-4538-b854-4f89e76690cc",
   "metadata": {},
   "outputs": [],
   "source": [
    "def calculate_similarity(image1, image2):\n",
    "    hist1 = cv2.calcHist([image1], [0], None, [256], [0, 256])\n",
    "    hist2 = cv2.calcHist([image2], [0], None, [256], [0, 256])\n",
    "    hist1 = cv2.normalize(hist1, hist1).flatten()\n",
    "    hist2 = cv2.normalize(hist2, hist2).flatten()\n",
    "    dist = cv2.compareHist(hist1, hist2, cv2.HISTCMP_BHATTACHARYYA)\n",
    "    return (1 - dist) * 100\n"
   ]
  },
  {
   "cell_type": "code",
   "execution_count": 10,
   "id": "c106e757-15ee-4280-9e31-9ce435ad87fa",
   "metadata": {},
   "outputs": [],
   "source": [
    "def create_cnn_model():\n",
    "    model = Sequential()\n",
    "    model.add(Conv2D(32, (3, 3), activation='relu', input_shape=(64, 64, 3)))\n",
    "    model.add(MaxPooling2D((2, 2)))\n",
    "    model.add(Conv2D(64, (3, 3)))"
   ]
  },
  {
   "cell_type": "code",
   "execution_count": 20,
   "id": "e378f41a-43ed-4056-826f-b475d9680f5e",
   "metadata": {},
   "outputs": [
    {
     "name": "stdout",
     "output_type": "stream",
     "text": [
      "The similarity percentage between the two images is 33.13%.\n"
     ]
    }
   ],
   "source": [
    "image1_path = \"v1.jpeg\"\n",
    "image2_path = \"v2.jpeg\"\n",
    "\n",
    "image1 = load_image(image1_path)\n",
    "image2 = load_image(image2_path)\n",
    "\n",
    "similarity_percentage = calculate_similarity(image1, image2)\n",
    "    \n",
    "print(f\"The similarity percentage between the two images is {similarity_percentage:.2f}%.\")\n"
   ]
  },
  {
   "cell_type": "code",
   "execution_count": 17,
   "id": "dbc4ddb0-2f45-4794-8c12-dd35447b0349",
   "metadata": {},
   "outputs": [],
   "source": [
    "if similarity_percentage >=95:\n",
    "    print(\"the two faces match\")"
   ]
  },
  {
   "cell_type": "code",
   "execution_count": null,
   "id": "060fe31d-b6df-4cd6-b54e-61025b5a4872",
   "metadata": {},
   "outputs": [],
   "source": []
  }
 ],
 "metadata": {
  "kernelspec": {
   "display_name": "Python 3 (ipykernel)",
   "language": "python",
   "name": "python3"
  },
  "language_info": {
   "codemirror_mode": {
    "name": "ipython",
    "version": 3
   },
   "file_extension": ".py",
   "mimetype": "text/x-python",
   "name": "python",
   "nbconvert_exporter": "python",
   "pygments_lexer": "ipython3",
   "version": "3.10.6"
  }
 },
 "nbformat": 4,
 "nbformat_minor": 5
}
